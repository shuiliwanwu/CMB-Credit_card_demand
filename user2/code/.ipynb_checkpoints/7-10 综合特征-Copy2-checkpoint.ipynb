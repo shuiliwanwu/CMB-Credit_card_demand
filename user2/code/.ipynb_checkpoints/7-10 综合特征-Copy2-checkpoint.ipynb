{
 "cells": [
  {
   "cell_type": "code",
   "execution_count": 1,
   "metadata": {},
   "outputs": [],
   "source": [
    "import pandas as pd\n",
    "feature1_path = '../final_feature/day_click_count.csv'\n",
    "feature2_path = '../final_feature/day_statical.csv'\n",
    "\n",
    "feature3_path = '../final_feature/evt_lbl_click_count.csv'\n",
    "feature4_path = '../final_feature/hour_statical.csv'\n",
    "\n",
    "feature5_path = '../final_feature/minute_statical.csv'\n",
    "feature6_path = '../final_feature/weekday_click_count.csv'\n",
    "\n",
    "feature1=pd.read_csv(feature1_path,sep='\\t')\n",
    "feature2=pd.read_csv(feature2_path,sep='\\t')\n",
    "feature3=pd.read_csv(feature3_path,sep='\\t')\n",
    "feature4=pd.read_csv(feature4_path,sep='\\t')\n",
    "feature5=pd.read_csv(feature5_path,sep='\\t')\n",
    "feature6=pd.read_csv(feature6_path,sep='\\t')\n"
   ]
  },
  {
   "cell_type": "code",
   "execution_count": 2,
   "metadata": {},
   "outputs": [],
   "source": [
    "train_agg_filename = r'../train/train_agg.csv'\n",
    "train_flg_filename = r'../train/train_flg.csv'\n",
    "\n",
    "test_agg_filename = r'../test/test_agg.csv'\n",
    "test_flg_filename = r'../test/submit_sample.csv'\n",
    "\n",
    "train_agg=pd.read_csv(train_agg_filename,sep='\\t')\n",
    "test_agg=pd.read_csv(test_agg_filename,sep='\\t')\n",
    "\n",
    "agg=pd.concat([train_agg,test_agg])\n",
    "\n",
    "train_flg = pd.read_csv(train_flg_filename,sep='\\t')\n",
    "test_flg = pd.read_csv(test_flg_filename,sep='\\t')\n",
    "test_flg['FLAG'] = -1\n",
    "del test_flg['RST']\n",
    "flg = pd.concat([train_flg,test_flg],copy=False)\n",
    "\n",
    "data = pd.merge(agg,flg,on=['USRID'],how='left',copy=False)"
   ]
  },
  {
   "cell_type": "code",
   "execution_count": 3,
   "metadata": {},
   "outputs": [],
   "source": [
    "data=pd.merge(data,feature1,how='left')\n",
    "data=pd.merge(data,feature2,how='left')\n",
    "data=pd.merge(data,feature3,how='left')\n",
    "data=pd.merge(data,feature4,how='left')\n",
    "data=pd.merge(data,feature5,how='left')\n",
    "data=pd.merge(data,feature6,how='left')"
   ]
  },
  {
   "cell_type": "code",
   "execution_count": 5,
   "metadata": {},
   "outputs": [],
   "source": [
    "evt_one_hot = pd.read_csv('../final_feature/final_feature.csv',sep='\\t')\n",
    "data = pd.merge(data,evt_one_hot,how='left')"
   ]
  },
  {
   "cell_type": "code",
   "execution_count": 6,
   "metadata": {},
   "outputs": [],
   "source": [
    "import pandas as pd\n",
    "data1= pd.read_csv('../final_feature/lbl_one_shift.csv',sep='\\t')\n",
    "data=pd.merge(data,data1,how='left')"
   ]
  },
  {
   "cell_type": "code",
   "execution_count": 7,
   "metadata": {},
   "outputs": [],
   "source": [
    "data.fillna(-1,inplace=True)"
   ]
  },
  {
   "cell_type": "code",
   "execution_count": 8,
   "metadata": {},
   "outputs": [],
   "source": [
    "train = data[data['FLAG']!=-1]\n",
    "test = data[data['FLAG']==-1]\n",
    "data.fillna(-1,inplace=True)\n",
    "from feature_selector import FeatureSelector\n",
    "fs = FeatureSelector(data = train.drop(['FLAG','USRID'],axis=1), labels = train['FLAG'])"
   ]
  },
  {
   "cell_type": "code",
   "execution_count": 9,
   "metadata": {},
   "outputs": [
    {
     "name": "stdout",
     "output_type": "stream",
     "text": [
      "329 features with a correlation magnitude greater than 0.98.\n",
      "\n"
     ]
    }
   ],
   "source": [
    "fs.identify_collinear(correlation_threshold = 0.98)"
   ]
  },
  {
   "cell_type": "code",
   "execution_count": 10,
   "metadata": {},
   "outputs": [
    {
     "data": {
      "text/plain": [
       "(80000, 619)"
      ]
     },
     "execution_count": 10,
     "metadata": {},
     "output_type": "execute_result"
    }
   ],
   "source": [
    "train.shape"
   ]
  },
  {
   "cell_type": "code",
   "execution_count": 11,
   "metadata": {
    "scrolled": true
   },
   "outputs": [
    {
     "name": "stdout",
     "output_type": "stream",
     "text": [
      "Training Gradient Boosting Model\n",
      "\n",
      "Train until valid scores didn't improve in 100 rounds.\n",
      "Early stopping, best iteration is:\n",
      "[145]\tvalid_0's auc: 0.842203\n",
      "Train until valid scores didn't improve in 100 rounds.\n",
      "Early stopping, best iteration is:\n",
      "[102]\tvalid_0's auc: 0.860321\n",
      "Train until valid scores didn't improve in 100 rounds.\n",
      "Early stopping, best iteration is:\n",
      "[140]\tvalid_0's auc: 0.868815\n",
      "Train until valid scores didn't improve in 100 rounds.\n",
      "Early stopping, best iteration is:\n",
      "[191]\tvalid_0's auc: 0.857931\n",
      "Train until valid scores didn't improve in 100 rounds.\n",
      "Early stopping, best iteration is:\n",
      "[104]\tvalid_0's auc: 0.855536\n",
      "Train until valid scores didn't improve in 100 rounds.\n",
      "Early stopping, best iteration is:\n",
      "[193]\tvalid_0's auc: 0.853328\n",
      "Train until valid scores didn't improve in 100 rounds.\n",
      "Early stopping, best iteration is:\n",
      "[256]\tvalid_0's auc: 0.851204\n",
      "Train until valid scores didn't improve in 100 rounds.\n",
      "Early stopping, best iteration is:\n",
      "[174]\tvalid_0's auc: 0.854553\n",
      "Train until valid scores didn't improve in 100 rounds.\n",
      "Early stopping, best iteration is:\n",
      "[224]\tvalid_0's auc: 0.858132\n",
      "Train until valid scores didn't improve in 100 rounds.\n",
      "Early stopping, best iteration is:\n",
      "[142]\tvalid_0's auc: 0.847603\n",
      "\n",
      "299 features with zero importance after one-hot encoding.\n",
      "\n"
     ]
    }
   ],
   "source": [
    "fs.identify_zero_importance(task = 'classification', \n",
    " eval_metric = 'auc', \n",
    " n_iterations = 10, \n",
    " early_stopping = True)\n",
    "\n",
    "zero_importance_features = fs.ops['zero_importance']\n"
   ]
  },
  {
   "cell_type": "code",
   "execution_count": 15,
   "metadata": {},
   "outputs": [
    {
     "name": "stdout",
     "output_type": "stream",
     "text": [
      "['collinear', 'zero_importance'] methods have been run\n",
      "\n",
      "Removed 350 features.\n"
     ]
    }
   ],
   "source": [
    "train_removed_all = fs.remove(methods = 'all')\n",
    "columns=list(train_removed_all.columns)\n",
    "columns.append('USRID')\n",
    "columns.append('FLAG')\n"
   ]
  },
  {
   "cell_type": "code",
   "execution_count": 16,
   "metadata": {},
   "outputs": [],
   "source": [
    "data =data[columns]"
   ]
  },
  {
   "cell_type": "code",
   "execution_count": 68,
   "metadata": {
    "scrolled": true
   },
   "outputs": [
    {
     "name": "stderr",
     "output_type": "stream",
     "text": [
      "D:\\Users\\cbf11\\Anaconda3\\lib\\site-packages\\pandas\\core\\frame.py:3787: SettingWithCopyWarning: \n",
      "A value is trying to be set on a copy of a slice from a DataFrame\n",
      "\n",
      "See the caveats in the documentation: http://pandas.pydata.org/pandas-docs/stable/indexing.html#indexing-view-versus-copy\n",
      "  downcast=downcast, **kwargs)\n"
     ]
    },
    {
     "name": "stdout",
     "output_type": "stream",
     "text": [
      "Train: [    1     2     4 ... 79995 79996 79997] | test: [    0     3    11 ... 79989 79998 79999]\n",
      "[0]\tdtrain-auc:0.797387\tdval-auc:0.798498\n",
      "Multiple eval metrics have been passed: 'dval-auc' will be used for early stopping.\n",
      "\n",
      "Will train until dval-auc hasn't improved in 100 rounds.\n",
      "[300]\tdtrain-auc:0.88556\tdval-auc:0.861383\n",
      "Stopping. Best iteration:\n",
      "[496]\tdtrain-auc:0.899539\tdval-auc:0.862039\n",
      "\n",
      "auc value: 0.8613157404621711\n",
      "Train: [    0     1     2 ... 79997 79998 79999] | test: [    9    10    14 ... 79983 79986 79993]\n",
      "[0]\tdtrain-auc:0.813262\tdval-auc:0.807028\n",
      "Multiple eval metrics have been passed: 'dval-auc' will be used for early stopping.\n",
      "\n",
      "Will train until dval-auc hasn't improved in 100 rounds.\n",
      "[300]\tdtrain-auc:0.888079\tdval-auc:0.850103\n",
      "[600]\tdtrain-auc:0.908808\tdval-auc:0.853066\n",
      "Stopping. Best iteration:\n",
      "[505]\tdtrain-auc:0.903078\tdval-auc:0.853257\n",
      "\n",
      "auc value: 0.8529764701963507\n",
      "Train: [    0     1     2 ... 79997 79998 79999] | test: [    5    13    20 ... 79992 79994 79996]\n",
      "[0]\tdtrain-auc:0.807882\tdval-auc:0.801135\n",
      "Multiple eval metrics have been passed: 'dval-auc' will be used for early stopping.\n",
      "\n",
      "Will train until dval-auc hasn't improved in 100 rounds.\n",
      "[300]\tdtrain-auc:0.885204\tdval-auc:0.859055\n",
      "[600]\tdtrain-auc:0.906128\tdval-auc:0.861841\n",
      "Stopping. Best iteration:\n",
      "[756]\tdtrain-auc:0.914754\tdval-auc:0.862249\n",
      "\n",
      "auc value: 0.8619412152068692\n",
      "Train: [    0     1     2 ... 79996 79998 79999] | test: [    4     7    16 ... 79988 79991 79997]\n",
      "[0]\tdtrain-auc:0.803103\tdval-auc:0.811657\n",
      "Multiple eval metrics have been passed: 'dval-auc' will be used for early stopping.\n",
      "\n",
      "Will train until dval-auc hasn't improved in 100 rounds.\n",
      "[300]\tdtrain-auc:0.884892\tdval-auc:0.867818\n",
      "Stopping. Best iteration:\n",
      "[466]\tdtrain-auc:0.896524\tdval-auc:0.869616\n",
      "\n",
      "auc value: 0.8692866751564937\n",
      "Train: [    0     3     4 ... 79997 79998 79999] | test: [    1     2     6 ... 79979 79990 79995]\n",
      "[0]\tdtrain-auc:0.808326\tdval-auc:0.800411\n",
      "Multiple eval metrics have been passed: 'dval-auc' will be used for early stopping.\n",
      "\n",
      "Will train until dval-auc hasn't improved in 100 rounds.\n",
      "[300]\tdtrain-auc:0.88854\tdval-auc:0.847966\n",
      "Stopping. Best iteration:\n",
      "[289]\tdtrain-auc:0.887523\tdval-auc:0.848012\n",
      "\n",
      "auc value: 0.8477577710036962\n",
      "validate result: 0.8586555744051161\n"
     ]
    },
    {
     "ename": "SystemExit",
     "evalue": "32",
     "output_type": "error",
     "traceback": [
      "An exception has occurred, use %tb to see the full traceback.\n",
      "\u001b[1;31mSystemExit\u001b[0m\u001b[1;31m:\u001b[0m 32\n"
     ]
    },
    {
     "name": "stderr",
     "output_type": "stream",
     "text": [
      "D:\\Users\\cbf11\\Anaconda3\\lib\\site-packages\\IPython\\core\\interactiveshell.py:2971: UserWarning: To exit: use 'exit', 'quit', or Ctrl-D.\n",
      "  warn(\"To exit: use 'exit', 'quit', or Ctrl-D.\", stacklevel=1)\n"
     ]
    }
   ],
   "source": [
    "\n",
    "train=data[data['FLAG']!=-1]\n",
    "test = data[data['FLAG']==-1]\n",
    "\n",
    "import numpy as np\n",
    "import pandas as pd\n",
    "from pandas import DataFrame\n",
    "import xgboost as xgb\n",
    "from sklearn.model_selection import ShuffleSplit\n",
    "from sklearn.metrics import f1_score\n",
    "import sys\n",
    "import scipy as sp\n",
    "from sklearn.metrics import roc_curve\n",
    "from sklearn import metrics\n",
    "from sklearn.model_selection import StratifiedKFold\n",
    "train.fillna(-1,inplace=True)\n",
    "for rnd in [100]:   \n",
    "    train_x = train.drop(['USRID', 'FLAG'], axis=1).values\n",
    "    train_y = train['FLAG'].values\n",
    "    auc_list = []\n",
    "    \n",
    "    skf = StratifiedKFold(n_splits=5, shuffle=True, random_state=3)\n",
    "    for train_index, test_index in skf.split(train_x, train_y):\n",
    "        print('Train: %s | test: %s' % (train_index, test_index))\n",
    "        X_train, X_test = train_x[train_index], train_x[test_index]\n",
    "        y_train, y_test = train_y[train_index], train_y[test_index]\n",
    "    \n",
    "        params = {'booster': 'gbtree',\n",
    "              'objective':'binary:logistic',\n",
    "              'eta': 0.02,\n",
    "              'max_depth': 5,  # 4 3\n",
    "              'colsample_bytree': 0.7,#0.8\n",
    "              'subsample': 0.7,\n",
    "              'min_child_weight': 9,  # 2 3\n",
    "              'silent':1,\n",
    "              'seed':rnd,\n",
    "            'eval_metric':'auc'\n",
    "              }\n",
    "        dtrain = xgb.DMatrix(X_train, label=y_train)\n",
    "        dval = xgb.DMatrix(X_test,y_test)\n",
    "        dvali = xgb.DMatrix(X_test)\n",
    "        model = xgb.train(params, dtrain, evals=[(dtrain,'dtrain'),(dval,'dval'),],early_stopping_rounds=100,verbose_eval=300,num_boost_round=3000)\n",
    "        pred_value = model.predict(dvali)\n",
    "    \n",
    "        pred_value = np.array(pred_value)\n",
    "        pred_value = [ele + 1 for ele in pred_value]\n",
    "    \n",
    "        y_test = np.array(y_test)\n",
    "        y_test = [ele + 1 for ele in y_test]\n",
    "    \n",
    "        fpr, tpr, thresholds = roc_curve(y_test, pred_value, pos_label=2)\n",
    "            \n",
    "        auc = metrics.auc(fpr, tpr)\n",
    "        print('auc value:',auc)\n",
    "        auc_list.append(auc)\n",
    "    \n",
    "    print('validate result:',np.mean(auc_list))\n",
    "   \n",
    "\n",
    "\n",
    "\n",
    "\n"
   ]
  },
  {
   "cell_type": "code",
   "execution_count": 17,
   "metadata": {},
   "outputs": [],
   "source": [
    "import numpy as np\n",
    "import pandas as pd\n",
    "from pandas import DataFrame\n",
    "import xgboost as xgb\n",
    "from sklearn.model_selection import ShuffleSplit\n",
    "from sklearn.metrics import f1_score\n",
    "import sys\n",
    "import scipy as sp\n",
    "from sklearn.metrics import roc_curve\n",
    "from sklearn import metrics\n",
    "from sklearn.model_selection import StratifiedKFold"
   ]
  },
  {
   "cell_type": "code",
   "execution_count": 19,
   "metadata": {},
   "outputs": [
    {
     "name": "stdout",
     "output_type": "stream",
     "text": [
      "[0]\tdtrain-auc:0.805341\n",
      "[100]\tdtrain-auc:0.858197\n",
      "[200]\tdtrain-auc:0.872216\n",
      "[300]\tdtrain-auc:0.882571\n",
      "[400]\tdtrain-auc:0.890002\n",
      "[500]\tdtrain-auc:0.896263\n",
      "[600]\tdtrain-auc:0.901643\n",
      "[700]\tdtrain-auc:0.906604\n",
      "[729]\tdtrain-auc:0.907873\n"
     ]
    },
    {
     "name": "stderr",
     "output_type": "stream",
     "text": [
      "D:\\Users\\cbf11\\Anaconda3\\lib\\site-packages\\ipykernel_launcher.py:37: SettingWithCopyWarning: \n",
      "A value is trying to be set on a copy of a slice from a DataFrame.\n",
      "Try using .loc[row_indexer,col_indexer] = value instead\n",
      "\n",
      "See the caveats in the documentation: http://pandas.pydata.org/pandas-docs/stable/indexing.html#indexing-view-versus-copy\n"
     ]
    }
   ],
   "source": [
    "rnd=100\n",
    "data.fillna(-1,inplace=True)\n",
    "train =data[data['FLAG']!=-1]\n",
    "test =data[data['FLAG']==-1]\n",
    "columns=list(train_removed_all.columns)\n",
    "columns.append('USRID')\n",
    "columns.append('FLAG')\n",
    "\n",
    "train=train[columns]\n",
    "test = test[columns]\n",
    "\n",
    "train_x = train.drop(['USRID', 'FLAG'], axis=1).values\n",
    "train_y = train['FLAG'].values\n",
    "dtrain = xgb.DMatrix(train_x, train_y)\n",
    "test_x = test.drop(['USRID','FLAG'],axis=1).values\n",
    "\n",
    "params = {'booster': 'gbtree',\n",
    "              'objective':'binary:logistic',\n",
    "              'eta': 0.02,\n",
    "              'max_depth': 5,  # 4 3\n",
    "              'colsample_bytree': 0.7,#0.8\n",
    "              'subsample': 0.7,\n",
    "              'min_child_weight': 9,  # 2 3\n",
    "              'silent':1,\n",
    "              'seed':rnd,\n",
    "            'eval_metric':'auc'\n",
    "              }\n",
    "dvali = xgb.DMatrix(test_x)\n",
    "model = xgb.train(params, dtrain, evals=[(dtrain,'dtrain'),],verbose_eval=100,num_boost_round=730)\n",
    "\n",
    "\n",
    "\n",
    "\n",
    "pred_value = model.predict(dvali)\n",
    "result = test[['USRID']]\n",
    "\n",
    "result['RST'] =pred_value\n",
    "result.to_csv('../submit/7-10-nopromotetimexgb_select_all-test.csv',index=None,sep='\\t')"
   ]
  }
 ],
 "metadata": {
  "kernelspec": {
   "display_name": "Python 3",
   "language": "python",
   "name": "python3"
  },
  "language_info": {
   "codemirror_mode": {
    "name": "ipython",
    "version": 3
   },
   "file_extension": ".py",
   "mimetype": "text/x-python",
   "name": "python",
   "nbconvert_exporter": "python",
   "pygments_lexer": "ipython3",
   "version": "3.6.5"
  }
 },
 "nbformat": 4,
 "nbformat_minor": 2
}
