{
 "cells": [
  {
   "cell_type": "code",
   "execution_count": 1,
   "metadata": {},
   "outputs": [],
   "source": [
    "import pandas as pd\n",
    "data1 = pd.read_csv('../submit/7-10-levelxgb_select_all-test2.csv',sep='\\t') \n",
    "data2 = pd.read_csv('../submit/7-10-nopromotetimexgb_select_all-test.csv',sep='\\t')\n",
    "data3 = pd.read_csv('../submit/7-10-xgb_select_all-test.csv',sep='\\t')\n",
    "data1['RST'] = (0.1*data1['RST']+0.1*data2['RST']+0.8*data3['RST'])\n",
    "data1.to_csv('../submit/best.csv',index=None,sep='\\t')"
   ]
  },
  {
   "cell_type": "code",
   "execution_count": null,
   "metadata": {},
   "outputs": [],
   "source": []
  }
 ],
 "metadata": {
  "kernelspec": {
   "display_name": "Python 3",
   "language": "python",
   "name": "python3"
  },
  "language_info": {
   "codemirror_mode": {
    "name": "ipython",
    "version": 3
   },
   "file_extension": ".py",
   "mimetype": "text/x-python",
   "name": "python",
   "nbconvert_exporter": "python",
   "pygments_lexer": "ipython3",
   "version": "3.6.5"
  }
 },
 "nbformat": 4,
 "nbformat_minor": 2
}
