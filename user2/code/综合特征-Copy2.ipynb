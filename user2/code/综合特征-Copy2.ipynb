{
 "cells": [
  {
   "cell_type": "code",
   "execution_count": 1,
   "metadata": {},
   "outputs": [],
   "source": [
    "import pandas as pd\n",
    "feature1_path = '../final_feature/day_click_count.csv'\n",
    "feature2_path = '../final_feature/day_statical.csv'\n",
    "\n",
    "feature3_path = '../final_feature/evt_lbl_click_count.csv'\n",
    "feature4_path = '../final_feature/hour_statical.csv'\n",
    "\n",
    "feature5_path = '../final_feature/minute_statical.csv'\n",
    "feature6_path = '../final_feature/weekday_click_count.csv'\n",
    "\n",
    "feature1=pd.read_csv(feature1_path,sep='\\t')\n",
    "feature2=pd.read_csv(feature2_path,sep='\\t')\n",
    "feature3=pd.read_csv(feature3_path,sep='\\t')\n",
    "feature4=pd.read_csv(feature4_path,sep='\\t')\n",
    "feature5=pd.read_csv(feature5_path,sep='\\t')\n",
    "feature6=pd.read_csv(feature6_path,sep='\\t')\n"
   ]
  },
  {
   "cell_type": "code",
   "execution_count": 2,
   "metadata": {},
   "outputs": [],
   "source": [
    "train_agg_filename = r'../train/train_agg.csv'\n",
    "train_flg_filename = r'../train/train_flg.csv'\n",
    "\n",
    "test_agg_filename = r'../test/test_agg.csv'\n",
    "test_flg_filename = r'../test/submit_sample.csv'\n",
    "\n",
    "train_agg=pd.read_csv(train_agg_filename,sep='\\t')\n",
    "test_agg=pd.read_csv(test_agg_filename,sep='\\t')\n",
    "\n",
    "agg=pd.concat([train_agg,test_agg])\n",
    "\n",
    "train_flg = pd.read_csv(train_flg_filename,sep='\\t')\n",
    "test_flg = pd.read_csv(test_flg_filename,sep='\\t')\n",
    "test_flg['FLAG'] = -1\n",
    "del test_flg['RST']\n",
    "flg = pd.concat([train_flg,test_flg],copy=False)\n",
    "\n",
    "data = pd.merge(agg,flg,on=['USRID'],how='left',copy=False)"
   ]
  },
  {
   "cell_type": "code",
   "execution_count": 3,
   "metadata": {},
   "outputs": [],
   "source": [
    "data=pd.merge(data,feature1,how='left')\n",
    "data=pd.merge(data,feature2,how='left')\n",
    "data=pd.merge(data,feature3,how='left')\n",
    "data=pd.merge(data,feature4,how='left')\n",
    "data=pd.merge(data,feature5,how='left')\n",
    "data=pd.merge(data,feature6,how='left')"
   ]
  },
  {
   "cell_type": "code",
   "execution_count": 4,
   "metadata": {},
   "outputs": [],
   "source": [
    "evt_one_hot = pd.read_csv('../final_feature/final_feature.csv',sep='\\t')\n",
    "data = pd.merge(data,evt_one_hot,how='left')"
   ]
  },
  {
   "cell_type": "code",
   "execution_count": 5,
   "metadata": {},
   "outputs": [],
   "source": [
    "import pandas as pd\n",
    "data1= pd.read_csv('../final_feature/lbl_one_shift.csv',sep='\\t')\n",
    "data=pd.merge(data,data1,how='left')"
   ]
  },
  {
   "cell_type": "code",
   "execution_count": 6,
   "metadata": {},
   "outputs": [],
   "source": [
    "data.fillna(-1,inplace=True)"
   ]
  },
  {
   "cell_type": "code",
   "execution_count": null,
   "metadata": {},
   "outputs": [],
   "source": [
    "train = data[data['FLAG']!=-1]\n",
    "test = data[data['FLAG']==-1]\n",
    "data.fillna(-1,inplace=True)\n",
    "from feature_selector import FeatureSelector\n",
    "fs = FeatureSelector(data = train.drop(['FLAG','USRID'],axis=1), labels = train['FLAG'])"
   ]
  },
  {
   "cell_type": "code",
   "execution_count": null,
   "metadata": {},
   "outputs": [],
   "source": [
    "fs.identify_collinear(correlation_threshold = 0.98)"
   ]
  },
  {
   "cell_type": "code",
   "execution_count": null,
   "metadata": {},
   "outputs": [],
   "source": [
    "train.shape"
   ]
  },
  {
   "cell_type": "code",
   "execution_count": null,
   "metadata": {
    "scrolled": true
   },
   "outputs": [],
   "source": [
    "fs.identify_zero_importance(task = 'classification', \n",
    " eval_metric = 'auc', \n",
    " n_iterations = 10, \n",
    " early_stopping = True)\n",
    "\n",
    "zero_importance_features = fs.ops['zero_importance']\n"
   ]
  },
  {
   "cell_type": "code",
   "execution_count": null,
   "metadata": {},
   "outputs": [],
   "source": [
    "train_removed_all = fs.remove(methods = 'all')\n",
    "columns=list(train_removed_all.columns)\n",
    "columns.append('USRID')\n",
    "columns.append('FLAG')\n"
   ]
  },
  {
   "cell_type": "code",
   "execution_count": null,
   "metadata": {},
   "outputs": [],
   "source": [
    "data =data[columns]"
   ]
  },
  {
   "cell_type": "code",
   "execution_count": null,
   "metadata": {
    "scrolled": true
   },
   "outputs": [],
   "source": [
    "\n",
    "train=data[data['FLAG']!=-1]\n",
    "test = data[data['FLAG']==-1]\n",
    "\n",
    "import numpy as np\n",
    "import pandas as pd\n",
    "from pandas import DataFrame\n",
    "import xgboost as xgb\n",
    "from sklearn.model_selection import ShuffleSplit\n",
    "from sklearn.metrics import f1_score\n",
    "import sys\n",
    "import scipy as sp\n",
    "from sklearn.metrics import roc_curve\n",
    "from sklearn import metrics\n",
    "from sklearn.model_selection import StratifiedKFold\n",
    "train.fillna(-1,inplace=True)\n",
    "for rnd in [100]:   \n",
    "    train_x = train.drop(['USRID', 'FLAG'], axis=1).values\n",
    "    train_y = train['FLAG'].values\n",
    "    auc_list = []\n",
    "    \n",
    "    skf = StratifiedKFold(n_splits=5, shuffle=True, random_state=3)\n",
    "    for train_index, test_index in skf.split(train_x, train_y):\n",
    "        print('Train: %s | test: %s' % (train_index, test_index))\n",
    "        X_train, X_test = train_x[train_index], train_x[test_index]\n",
    "        y_train, y_test = train_y[train_index], train_y[test_index]\n",
    "    \n",
    "        params = {'booster': 'gbtree',\n",
    "              'objective':'binary:logistic',\n",
    "              'eta': 0.02,\n",
    "              'max_depth': 5,  # 4 3\n",
    "              'colsample_bytree': 0.7,#0.8\n",
    "              'subsample': 0.7,\n",
    "              'min_child_weight': 9,  # 2 3\n",
    "              'silent':1,\n",
    "              'seed':rnd,\n",
    "            'eval_metric':'auc'\n",
    "              }\n",
    "        dtrain = xgb.DMatrix(X_train, label=y_train)\n",
    "        dval = xgb.DMatrix(X_test,y_test)\n",
    "        dvali = xgb.DMatrix(X_test)\n",
    "        model = xgb.train(params, dtrain, evals=[(dtrain,'dtrain'),(dval,'dval'),],early_stopping_rounds=100,verbose_eval=300,num_boost_round=3000)\n",
    "        pred_value = model.predict(dvali)\n",
    "    \n",
    "        pred_value = np.array(pred_value)\n",
    "        pred_value = [ele + 1 for ele in pred_value]\n",
    "    \n",
    "        y_test = np.array(y_test)\n",
    "        y_test = [ele + 1 for ele in y_test]\n",
    "    \n",
    "        fpr, tpr, thresholds = roc_curve(y_test, pred_value, pos_label=2)\n",
    "            \n",
    "        auc = metrics.auc(fpr, tpr)\n",
    "        print('auc value:',auc)\n",
    "        auc_list.append(auc)\n",
    "    \n",
    "    print('validate result:',np.mean(auc_list))\n",
    "   \n",
    "\n",
    "\n",
    "\n",
    "\n"
   ]
  },
  {
   "cell_type": "code",
   "execution_count": null,
   "metadata": {},
   "outputs": [],
   "source": [
    "import numpy as np\n",
    "import pandas as pd\n",
    "from pandas import DataFrame\n",
    "import xgboost as xgb\n",
    "from sklearn.model_selection import ShuffleSplit\n",
    "from sklearn.metrics import f1_score\n",
    "import sys\n",
    "import scipy as sp\n",
    "from sklearn.metrics import roc_curve\n",
    "from sklearn import metrics\n",
    "from sklearn.model_selection import StratifiedKFold"
   ]
  },
  {
   "cell_type": "code",
   "execution_count": null,
   "metadata": {},
   "outputs": [],
   "source": [
    "rnd=100\n",
    "data.fillna(-1,inplace=True)\n",
    "train =data[data['FLAG']!=-1]\n",
    "test =data[data['FLAG']==-1]\n",
    "columns=list(train_removed_all.columns)\n",
    "columns.append('USRID')\n",
    "columns.append('FLAG')\n",
    "\n",
    "train=train[columns]\n",
    "test = test[columns]\n",
    "\n",
    "train_x = train.drop(['USRID', 'FLAG'], axis=1).values\n",
    "train_y = train['FLAG'].values\n",
    "dtrain = xgb.DMatrix(train_x, train_y)\n",
    "test_x = test.drop(['USRID','FLAG'],axis=1).values\n",
    "\n",
    "params = {'booster': 'gbtree',\n",
    "              'objective':'binary:logistic',\n",
    "              'eta': 0.02,\n",
    "              'max_depth': 5,  # 4 3\n",
    "              'colsample_bytree': 0.7,#0.8\n",
    "              'subsample': 0.7,\n",
    "              'min_child_weight': 9,  # 2 3\n",
    "              'silent':1,\n",
    "              'seed':rnd,\n",
    "            'eval_metric':'auc'\n",
    "              }\n",
    "dvali = xgb.DMatrix(test_x)\n",
    "model = xgb.train(params, dtrain, evals=[(dtrain,'dtrain'),],verbose_eval=100,num_boost_round=730)\n",
    "\n",
    "\n",
    "\n",
    "\n",
    "pred_value = model.predict(dvali)\n",
    "result = test[['USRID']]\n",
    "\n",
    "result['RST'] =pred_value\n",
    "result.to_csv('../submit/7-10-nopromotetimexgb_select_all-test.csv',index=None,sep='\\t')"
   ]
  }
 ],
 "metadata": {
  "kernelspec": {
   "display_name": "Python 3",
   "language": "python",
   "name": "python3"
  },
  "language_info": {
   "codemirror_mode": {
    "name": "ipython",
    "version": 3
   },
   "file_extension": ".py",
   "mimetype": "text/x-python",
   "name": "python",
   "nbconvert_exporter": "python",
   "pygments_lexer": "ipython3",
   "version": "3.6.5"
  }
 },
 "nbformat": 4,
 "nbformat_minor": 2
}
