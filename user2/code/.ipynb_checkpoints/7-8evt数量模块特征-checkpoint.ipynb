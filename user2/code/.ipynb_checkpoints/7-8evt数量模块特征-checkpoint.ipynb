{
 "cells": [
  {
   "cell_type": "code",
   "execution_count": 1,
   "metadata": {},
   "outputs": [],
   "source": [
    "import pandas as pd\n",
    "\n",
    "\n",
    "\n",
    "train_log_filename = r'../train/train_log.csv'\n",
    "test_log_filename = r'../test/test_log.csv'\n",
    "\n",
    "train_log = pd.read_csv(train_log_filename, sep='\\t')\n",
    "\n",
    "test_log = pd.read_csv(test_log_filename, sep='\\t')\n",
    "\n",
    "df_log = pd.concat([train_log, test_log]).reset_index(drop=True)\n",
    "\n",
    "df_log['OCC_TIM'] = pd.to_datetime(df_log['OCC_TIM'])"
   ]
  },
  {
   "cell_type": "code",
   "execution_count": 2,
   "metadata": {},
   "outputs": [],
   "source": [
    "df_log['evt_lbl_one'] = df_log['EVT_LBL'].apply(lambda x:x.split('-')[0])\n",
    "df_log['evt_lbl_two'] = df_log['EVT_LBL'].apply(lambda x :x.split('-')[1])\n",
    "df_log['evt_lbl_three'] = df_log['EVT_LBL'].apply(lambda x :x.split('-')[2])\n"
   ]
  },
  {
   "cell_type": "code",
   "execution_count": 3,
   "metadata": {},
   "outputs": [
    {
     "name": "stderr",
     "output_type": "stream",
     "text": [
      "D:\\Users\\cbf11\\Anaconda3\\lib\\site-packages\\ipykernel_launcher.py:1: FutureWarning: using a dict on a Series for aggregation\n",
      "is deprecated and will be removed in a future version\n",
      "  \"\"\"Entry point for launching an IPython kernel.\n"
     ]
    }
   ],
   "source": [
    "count_1 = df_log.groupby(['USRID','evt_lbl_one'])['evt_lbl_one'].agg({'evt_lbl_one_sum':len})\n",
    "tmp = pd.pivot_table(count_1,index=['USRID'],columns=['evt_lbl_one'],values=['evt_lbl_one_sum'],fill_value=0,margins=False)\n",
    "s1= tmp['evt_lbl_one_sum']\n",
    "s1.columns = s1.columns.map(lambda x:'evt_lbl_one_'+str(x)+'_click_count')\n",
    "s1.columns.name=None\n",
    "s1 = s1.reset_index()\n"
   ]
  },
  {
   "cell_type": "code",
   "execution_count": 4,
   "metadata": {},
   "outputs": [
    {
     "name": "stderr",
     "output_type": "stream",
     "text": [
      "D:\\Users\\cbf11\\Anaconda3\\lib\\site-packages\\ipykernel_launcher.py:1: FutureWarning: using a dict on a Series for aggregation\n",
      "is deprecated and will be removed in a future version\n",
      "  \"\"\"Entry point for launching an IPython kernel.\n"
     ]
    }
   ],
   "source": [
    "count_2 = df_log.groupby(['USRID','evt_lbl_two'])['evt_lbl_two'].agg({'evt_lbl_two_sum':len})\n",
    "tmp = pd.pivot_table(count_2,index=['USRID'],columns=['evt_lbl_two'],values=['evt_lbl_two_sum'],fill_value=0,margins=False)\n",
    "s2= tmp['evt_lbl_two_sum']\n",
    "s2.columns = s2.columns.map(lambda x:'evt_lbl_two_'+str(x)+'_click_count')\n",
    "s2.columns.name=None\n",
    "s2 = s2.reset_index()\n"
   ]
  },
  {
   "cell_type": "code",
   "execution_count": 5,
   "metadata": {},
   "outputs": [
    {
     "name": "stderr",
     "output_type": "stream",
     "text": [
      "D:\\Users\\cbf11\\Anaconda3\\lib\\site-packages\\ipykernel_launcher.py:1: FutureWarning: using a dict on a Series for aggregation\n",
      "is deprecated and will be removed in a future version\n",
      "  \"\"\"Entry point for launching an IPython kernel.\n"
     ]
    }
   ],
   "source": [
    "count_3 = df_log.groupby(['USRID','evt_lbl_three'])['evt_lbl_three'].agg({'evt_lbl_three_sum':len})\n",
    "tmp = pd.pivot_table(count_3,index=['USRID'],columns=['evt_lbl_three'],values=['evt_lbl_three_sum'],fill_value=0,margins=False)\n",
    "s3= tmp['evt_lbl_three_sum']\n",
    "s3.columns = s3.columns.map(lambda x:'evt_lbl_three_'+str(x)+'_click_count')\n",
    "s3.columns.name=None\n",
    "s3 = s3.reset_index()"
   ]
  },
  {
   "cell_type": "code",
   "execution_count": 6,
   "metadata": {},
   "outputs": [],
   "source": [
    "feature =pd.merge(s1,s2,on='USRID')\n",
    "feature =pd.merge(feature,s3,on='USRID')\n"
   ]
  },
  {
   "cell_type": "code",
   "execution_count": null,
   "metadata": {},
   "outputs": [],
   "source": [
    "feature.to_csv('../final_feature/evt_level_click_count.csv',index=None,sep='\\t')\n",
    "s1.to_csv('../final_feature/evt_level_one_click_count.csv',index=None,sep='\\t')\n",
    "s2.to_csv('../final_feature/evt_level_two_click_count.csv',index=None,sep='\\t')\n",
    "s3.to_csv('../final_feature/evt_level_three_click_count.csv',index=None,sep='\\t')"
   ]
  },
  {
   "cell_type": "code",
   "execution_count": null,
   "metadata": {},
   "outputs": [],
   "source": [
    "count_1 = df_log.groupby(['USRID','TCH_TYP'])['evt_lbl_one'].agg({'evt_lbl_one_sum':len})\n",
    "tmp = pd.pivot_table(count_1,index=['USRID'],columns=['TCH_TYP'],values=['evt_lbl_one_sum'],fill_value=0,margins=False)\n",
    "s1= tmp['evt_lbl_one_sum']\n",
    "s1.columns = s1.columns.map(lambda x:'evt_lbl_one_sum_'+str(x)+'_click_count')\n",
    "s1.columns.name=None\n",
    "s1 = s1.reset_index()\n",
    "\n",
    "\n"
   ]
  },
  {
   "cell_type": "code",
   "execution_count": null,
   "metadata": {},
   "outputs": [],
   "source": [
    "count_2 = df_log.groupby(['USRID','TCH_TYP'])['evt_lbl_two'].agg({'evt_lbl_two_sum':len})\n",
    "tmp = pd.pivot_table(count_2,index=['USRID'],columns=['TCH_TYP'],values=['evt_lbl_two_sum'],fill_value=0,margins=False)\n",
    "s2= tmp['evt_lbl_two_sum']\n",
    "s2.columns = s2.columns.map(lambda x:'evt_lbl_two_sum_'+str(x)+'_click_count')\n",
    "s2.columns.name=None\n",
    "s2 = s2.reset_index()"
   ]
  },
  {
   "cell_type": "code",
   "execution_count": null,
   "metadata": {},
   "outputs": [],
   "source": [
    "count_3 = df_log.groupby(['USRID','TCH_TYP'])['evt_lbl_three'].agg({'evt_lbl_three_sum':len})\n",
    "tmp = pd.pivot_table(count_3,index=['USRID'],columns=['TCH_TYP'],values=['evt_lbl_three_sum'],fill_value=0,margins=False)\n",
    "s3= tmp['evt_lbl_three_sum']\n",
    "s3.columns = s3.columns.map(lambda x:'evt_lbl_three_sum_'+str(x)+'_click_count')\n",
    "s3.columns.name=None\n",
    "s3 = s3.reset_index()"
   ]
  },
  {
   "cell_type": "code",
   "execution_count": null,
   "metadata": {},
   "outputs": [],
   "source": [
    "count = df_log.groupby(['USRID','TCH_TYP'])['EVT_LBL'].agg({'evt_lbl_sum':len})\n",
    "tmp = pd.pivot_table(count,index=['USRID'],columns=['TCH_TYP'],values=['evt_lbl_sum'],fill_value=0,margins=False)\n",
    "s= tmp['evt_lbl_sum']\n",
    "s.columns = s.columns.map(lambda x:'evt_lbl_sum_'+str(x)+'_click_count')\n",
    "s.columns.name=None\n",
    "s = s.reset_index()"
   ]
  },
  {
   "cell_type": "code",
   "execution_count": null,
   "metadata": {},
   "outputs": [],
   "source": [
    "feature1=pd.merge(s,s1)\n",
    "feature1=pd.merge(feature1,s2)\n",
    "feature1=pd.merge(feature1,s3)"
   ]
  },
  {
   "cell_type": "code",
   "execution_count": null,
   "metadata": {},
   "outputs": [],
   "source": [
    "feature1.to_csv('../final_feature/evt_lbl_click_count.csv',index=None,sep='\\t')"
   ]
  }
 ],
 "metadata": {
  "kernelspec": {
   "display_name": "Python 3",
   "language": "python",
   "name": "python3"
  },
  "language_info": {
   "codemirror_mode": {
    "name": "ipython",
    "version": 3
   },
   "file_extension": ".py",
   "mimetype": "text/x-python",
   "name": "python",
   "nbconvert_exporter": "python",
   "pygments_lexer": "ipython3",
   "version": "3.6.5"
  }
 },
 "nbformat": 4,
 "nbformat_minor": 2
}
